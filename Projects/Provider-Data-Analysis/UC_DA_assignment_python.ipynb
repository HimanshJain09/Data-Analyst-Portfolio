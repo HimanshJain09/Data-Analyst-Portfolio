{
 "cells": [
  {
   "cell_type": "markdown",
   "id": "91ec55e5-f94d-4799-ad41-2144297b8d20",
   "metadata": {},
   "source": [
    "## Data Loading and Initial Preparation"
   ]
  },
  {
   "cell_type": "code",
   "execution_count": 46,
   "id": "00fd474b-558e-4a0b-8e02-d76e69543073",
   "metadata": {},
   "outputs": [],
   "source": [
    "import numpy as np\n",
    "import pandas as pd\n",
    "from datetime import datetime, date, time, timedelta\n",
    "\n",
    "import warnings\n",
    "warnings.filterwarnings('ignore')\n",
    "\n",
    "start = datetime.now()\n",
    "\n",
    "df = pd.read_csv('assignment_data.csv')"
   ]
  },
  {
   "cell_type": "code",
   "execution_count": 47,
   "id": "e5a4afb2-4037-4f56-baf3-e0a28b65dfeb",
   "metadata": {},
   "outputs": [
    {
     "name": "stdout",
     "output_type": "stream",
     "text": [
      "<class 'pandas.core.frame.DataFrame'>\n",
      "RangeIndex: 1945726 entries, 0 to 1945725\n",
      "Data columns (total 4 columns):\n",
      " #   Column       Dtype \n",
      "---  ------       ----- \n",
      " 0   provider_id  object\n",
      " 1   detail       object\n",
      " 2   source       object\n",
      " 3   event_time   object\n",
      "dtypes: object(4)\n",
      "memory usage: 59.4+ MB\n"
     ]
    },
    {
     "data": {
      "text/html": [
       "<div>\n",
       "<style scoped>\n",
       "    .dataframe tbody tr th:only-of-type {\n",
       "        vertical-align: middle;\n",
       "    }\n",
       "\n",
       "    .dataframe tbody tr th {\n",
       "        vertical-align: top;\n",
       "    }\n",
       "\n",
       "    .dataframe thead th {\n",
       "        text-align: right;\n",
       "    }\n",
       "</style>\n",
       "<table border=\"1\" class=\"dataframe\">\n",
       "  <thead>\n",
       "    <tr style=\"text-align: right;\">\n",
       "      <th></th>\n",
       "      <th>provider_id</th>\n",
       "      <th>detail</th>\n",
       "      <th>source</th>\n",
       "      <th>event_time</th>\n",
       "    </tr>\n",
       "  </thead>\n",
       "  <tbody>\n",
       "    <tr>\n",
       "      <th>0</th>\n",
       "      <td>6873f0af240706d65514ec247c64f330</td>\n",
       "      <td>{u'mme': False}</td>\n",
       "      <td>job_responded</td>\n",
       "      <td>2017-09-01 00:00:00.000000</td>\n",
       "    </tr>\n",
       "    <tr>\n",
       "      <th>1</th>\n",
       "      <td>a5a021d997269c4f1846903ff0f5d737</td>\n",
       "      <td>{u'lat': 18.9810108, u'long': 72.8187476}</td>\n",
       "      <td>location_tracking</td>\n",
       "      <td>2017-09-01 00:00:02.000000</td>\n",
       "    </tr>\n",
       "    <tr>\n",
       "      <th>2</th>\n",
       "      <td>77af6d6d6db530c389ec1014d557a01e</td>\n",
       "      <td>{u'mme': False}</td>\n",
       "      <td>decline_request</td>\n",
       "      <td>2017-09-01 00:00:05.000000</td>\n",
       "    </tr>\n",
       "    <tr>\n",
       "      <th>3</th>\n",
       "      <td>7ea218c2b9a6dada27e0d5bdf5f896de</td>\n",
       "      <td>{u'mme': False}</td>\n",
       "      <td>decline_request</td>\n",
       "      <td>2017-09-01 00:00:12.000000</td>\n",
       "    </tr>\n",
       "    <tr>\n",
       "      <th>4</th>\n",
       "      <td>0d7a9d9c00231885b413175980a9beca</td>\n",
       "      <td>{u'lat': 12.9959477, u'long': 77.6527175}</td>\n",
       "      <td>location_tracking</td>\n",
       "      <td>2017-09-01 00:00:15.000000</td>\n",
       "    </tr>\n",
       "  </tbody>\n",
       "</table>\n",
       "</div>"
      ],
      "text/plain": [
       "                        provider_id  \\\n",
       "0  6873f0af240706d65514ec247c64f330   \n",
       "1  a5a021d997269c4f1846903ff0f5d737   \n",
       "2  77af6d6d6db530c389ec1014d557a01e   \n",
       "3  7ea218c2b9a6dada27e0d5bdf5f896de   \n",
       "4  0d7a9d9c00231885b413175980a9beca   \n",
       "\n",
       "                                      detail             source  \\\n",
       "0                            {u'mme': False}      job_responded   \n",
       "1  {u'lat': 18.9810108, u'long': 72.8187476}  location_tracking   \n",
       "2                            {u'mme': False}    decline_request   \n",
       "3                            {u'mme': False}    decline_request   \n",
       "4  {u'lat': 12.9959477, u'long': 77.6527175}  location_tracking   \n",
       "\n",
       "                   event_time  \n",
       "0  2017-09-01 00:00:00.000000  \n",
       "1  2017-09-01 00:00:02.000000  \n",
       "2  2017-09-01 00:00:05.000000  \n",
       "3  2017-09-01 00:00:12.000000  \n",
       "4  2017-09-01 00:00:15.000000  "
      ]
     },
     "execution_count": 47,
     "metadata": {},
     "output_type": "execute_result"
    }
   ],
   "source": [
    "df.info()\n",
    "df.head()"
   ]
  },
  {
   "cell_type": "markdown",
   "id": "e33ea0c6-ce83-4b11-a25c-934b6f87ac8b",
   "metadata": {},
   "source": [
    "### Splitting date and time"
   ]
  },
  {
   "cell_type": "code",
   "execution_count": 49,
   "id": "2ae408f6-9a92-48f5-ae30-4965937a29dd",
   "metadata": {},
   "outputs": [
    {
     "data": {
      "text/html": [
       "<div>\n",
       "<style scoped>\n",
       "    .dataframe tbody tr th:only-of-type {\n",
       "        vertical-align: middle;\n",
       "    }\n",
       "\n",
       "    .dataframe tbody tr th {\n",
       "        vertical-align: top;\n",
       "    }\n",
       "\n",
       "    .dataframe thead th {\n",
       "        text-align: right;\n",
       "    }\n",
       "</style>\n",
       "<table border=\"1\" class=\"dataframe\">\n",
       "  <thead>\n",
       "    <tr style=\"text-align: right;\">\n",
       "      <th></th>\n",
       "      <th>provider_id</th>\n",
       "      <th>detail</th>\n",
       "      <th>source</th>\n",
       "      <th>event_time</th>\n",
       "      <th>Date</th>\n",
       "      <th>Time</th>\n",
       "    </tr>\n",
       "  </thead>\n",
       "  <tbody>\n",
       "    <tr>\n",
       "      <th>0</th>\n",
       "      <td>6873f0af240706d65514ec247c64f330</td>\n",
       "      <td>{u'mme': False}</td>\n",
       "      <td>job_responded</td>\n",
       "      <td>2017-09-01 00:00:00.000000</td>\n",
       "      <td>2017-09-01</td>\n",
       "      <td>00:00:00</td>\n",
       "    </tr>\n",
       "    <tr>\n",
       "      <th>1</th>\n",
       "      <td>a5a021d997269c4f1846903ff0f5d737</td>\n",
       "      <td>{u'lat': 18.9810108, u'long': 72.8187476}</td>\n",
       "      <td>location_tracking</td>\n",
       "      <td>2017-09-01 00:00:02.000000</td>\n",
       "      <td>2017-09-01</td>\n",
       "      <td>00:00:02</td>\n",
       "    </tr>\n",
       "    <tr>\n",
       "      <th>2</th>\n",
       "      <td>77af6d6d6db530c389ec1014d557a01e</td>\n",
       "      <td>{u'mme': False}</td>\n",
       "      <td>decline_request</td>\n",
       "      <td>2017-09-01 00:00:05.000000</td>\n",
       "      <td>2017-09-01</td>\n",
       "      <td>00:00:05</td>\n",
       "    </tr>\n",
       "    <tr>\n",
       "      <th>3</th>\n",
       "      <td>7ea218c2b9a6dada27e0d5bdf5f896de</td>\n",
       "      <td>{u'mme': False}</td>\n",
       "      <td>decline_request</td>\n",
       "      <td>2017-09-01 00:00:12.000000</td>\n",
       "      <td>2017-09-01</td>\n",
       "      <td>00:00:12</td>\n",
       "    </tr>\n",
       "    <tr>\n",
       "      <th>4</th>\n",
       "      <td>0d7a9d9c00231885b413175980a9beca</td>\n",
       "      <td>{u'lat': 12.9959477, u'long': 77.6527175}</td>\n",
       "      <td>location_tracking</td>\n",
       "      <td>2017-09-01 00:00:15.000000</td>\n",
       "      <td>2017-09-01</td>\n",
       "      <td>00:00:15</td>\n",
       "    </tr>\n",
       "    <tr>\n",
       "      <th>...</th>\n",
       "      <td>...</td>\n",
       "      <td>...</td>\n",
       "      <td>...</td>\n",
       "      <td>...</td>\n",
       "      <td>...</td>\n",
       "      <td>...</td>\n",
       "    </tr>\n",
       "    <tr>\n",
       "      <th>1945721</th>\n",
       "      <td>4fcaf6b3efd1057f5313cbeee45971ce</td>\n",
       "      <td>{u'lat': 13.1017353, u'long': 77.5237836}</td>\n",
       "      <td>location_tracking</td>\n",
       "      <td>2017-09-30 23:59:24.000000</td>\n",
       "      <td>2017-09-30</td>\n",
       "      <td>23:59:24</td>\n",
       "    </tr>\n",
       "    <tr>\n",
       "      <th>1945722</th>\n",
       "      <td>071aeff24666fc1d2f0550df11446165</td>\n",
       "      <td>{u'lat': 19.1423332, u'long': 72.8375924}</td>\n",
       "      <td>location_tracking</td>\n",
       "      <td>2017-09-30 23:59:25.000000</td>\n",
       "      <td>2017-09-30</td>\n",
       "      <td>23:59:25</td>\n",
       "    </tr>\n",
       "    <tr>\n",
       "      <th>1945723</th>\n",
       "      <td>93c11631d6844292b8eb64ae1335efe9</td>\n",
       "      <td>{u'lat': 13.0037739, u'long': 77.6344158}</td>\n",
       "      <td>location_tracking</td>\n",
       "      <td>2017-09-30 23:59:29.000000</td>\n",
       "      <td>2017-09-30</td>\n",
       "      <td>23:59:29</td>\n",
       "    </tr>\n",
       "    <tr>\n",
       "      <th>1945724</th>\n",
       "      <td>80ce8c0b6f2c5c3ce45ef92211f86446</td>\n",
       "      <td>{u'lat': 12.9319261, u'long': 77.5918504}</td>\n",
       "      <td>location_tracking</td>\n",
       "      <td>2017-09-30 23:59:33.000000</td>\n",
       "      <td>2017-09-30</td>\n",
       "      <td>23:59:33</td>\n",
       "    </tr>\n",
       "    <tr>\n",
       "      <th>1945725</th>\n",
       "      <td>7daa1ecf4c2c44540eb08f3ee4da05c6</td>\n",
       "      <td>{u'lat': 19.1384225, u'long': 72.9271448}</td>\n",
       "      <td>location_tracking</td>\n",
       "      <td>2017-09-30 23:59:55.000000</td>\n",
       "      <td>2017-09-30</td>\n",
       "      <td>23:59:55</td>\n",
       "    </tr>\n",
       "  </tbody>\n",
       "</table>\n",
       "<p>1945726 rows × 6 columns</p>\n",
       "</div>"
      ],
      "text/plain": [
       "                              provider_id  \\\n",
       "0        6873f0af240706d65514ec247c64f330   \n",
       "1        a5a021d997269c4f1846903ff0f5d737   \n",
       "2        77af6d6d6db530c389ec1014d557a01e   \n",
       "3        7ea218c2b9a6dada27e0d5bdf5f896de   \n",
       "4        0d7a9d9c00231885b413175980a9beca   \n",
       "...                                   ...   \n",
       "1945721  4fcaf6b3efd1057f5313cbeee45971ce   \n",
       "1945722  071aeff24666fc1d2f0550df11446165   \n",
       "1945723  93c11631d6844292b8eb64ae1335efe9   \n",
       "1945724  80ce8c0b6f2c5c3ce45ef92211f86446   \n",
       "1945725  7daa1ecf4c2c44540eb08f3ee4da05c6   \n",
       "\n",
       "                                            detail             source  \\\n",
       "0                                  {u'mme': False}      job_responded   \n",
       "1        {u'lat': 18.9810108, u'long': 72.8187476}  location_tracking   \n",
       "2                                  {u'mme': False}    decline_request   \n",
       "3                                  {u'mme': False}    decline_request   \n",
       "4        {u'lat': 12.9959477, u'long': 77.6527175}  location_tracking   \n",
       "...                                            ...                ...   \n",
       "1945721  {u'lat': 13.1017353, u'long': 77.5237836}  location_tracking   \n",
       "1945722  {u'lat': 19.1423332, u'long': 72.8375924}  location_tracking   \n",
       "1945723  {u'lat': 13.0037739, u'long': 77.6344158}  location_tracking   \n",
       "1945724  {u'lat': 12.9319261, u'long': 77.5918504}  location_tracking   \n",
       "1945725  {u'lat': 19.1384225, u'long': 72.9271448}  location_tracking   \n",
       "\n",
       "                         event_time        Date      Time  \n",
       "0        2017-09-01 00:00:00.000000  2017-09-01  00:00:00  \n",
       "1        2017-09-01 00:00:02.000000  2017-09-01  00:00:02  \n",
       "2        2017-09-01 00:00:05.000000  2017-09-01  00:00:05  \n",
       "3        2017-09-01 00:00:12.000000  2017-09-01  00:00:12  \n",
       "4        2017-09-01 00:00:15.000000  2017-09-01  00:00:15  \n",
       "...                             ...         ...       ...  \n",
       "1945721  2017-09-30 23:59:24.000000  2017-09-30  23:59:24  \n",
       "1945722  2017-09-30 23:59:25.000000  2017-09-30  23:59:25  \n",
       "1945723  2017-09-30 23:59:29.000000  2017-09-30  23:59:29  \n",
       "1945724  2017-09-30 23:59:33.000000  2017-09-30  23:59:33  \n",
       "1945725  2017-09-30 23:59:55.000000  2017-09-30  23:59:55  \n",
       "\n",
       "[1945726 rows x 6 columns]"
      ]
     },
     "execution_count": 49,
     "metadata": {},
     "output_type": "execute_result"
    }
   ],
   "source": [
    "df_split = df['event_time'].str.split(expand=True)   \n",
    "df_split.columns = ['Date', 'Time']\n",
    "df_split['Time'] = df_split[\"Time\"].str.replace(\".000000\",\"\",regex=True)\n",
    "\n",
    "# A dataframe with separate time and date columns\n",
    "df_combined = pd.concat([df, df_split], axis=1)\n",
    "df_combined"
   ]
  },
  {
   "cell_type": "markdown",
   "id": "dbe8af28-f0e2-4e4c-b286-590d7eb9d1ea",
   "metadata": {},
   "source": [
    "## Time Adjustments Based on Rules"
   ]
  },
  {
   "cell_type": "code",
   "execution_count": 51,
   "id": "e65a218a-5219-4069-9168-d2b4137d30ef",
   "metadata": {},
   "outputs": [],
   "source": [
    "# Apply Rule 3: Events from midnight to 8 AM are considered at 8 AM.\n",
    "df_processed = df_combined.copy()\n",
    "df_processed.loc[df_processed[\"Time\"].between('00:00:00', '08:00:00', inclusive='left'), \"Time\"] = '08:00:00'"
   ]
  },
  {
   "cell_type": "code",
   "execution_count": 52,
   "id": "ce1d2839-78e4-4e34-95bb-62cc9994ddc4",
   "metadata": {},
   "outputs": [],
   "source": [
    "# Designate online and offline status based on rules 4, 5, 7\n",
    "# Rule 5: 'detail' is 'False' -> Offline\n",
    "df_offline = df_processed[df_processed['detail'].str.contains('False', regex=False, na=False)].copy()\n",
    "df_offline['Status'] = 'Offline'\n",
    "\n",
    "# Rule 4: 'detail' is 'True' OR 'source' is 'Action on Job' -> Online\n",
    "df_online = df_processed[(df_processed['detail'].str.contains('True', regex=False, na=False)) | \n",
    "                         (df_processed['source'].str.contains('Action on Job', regex=False, na=False))].copy()\n",
    "df_online['Status'] = 'Online'\n",
    "\n",
    "# Rule 7: If both online and offline then treat as online.\n",
    "# This means if an event satisfies 'df_offline' and 'df_online' conditions,\n",
    "# it should prioritize 'Online'.\n",
    "\n",
    "# Create a temporary status priority: Online (1) > Offline (0)\n",
    "df_temp = pd.concat([df_offline, df_online], ignore_index=True)\n",
    "df_temp['status_priority'] = df_temp['Status'].map({'Online': 1, 'Offline': 0})\n",
    "\n",
    "# Combine Date and Time into a single datetime object for precise sorting\n",
    "df_temp['dt'] = pd.to_datetime(df_temp['Date'] + ' ' + df_temp['Time'])\n"
   ]
  },
  {
   "cell_type": "markdown",
   "id": "2cb8b51f-29a5-4bcd-a531-9cb1736e779e",
   "metadata": {},
   "source": [
    "### Generate the full daily time grid for all providers (8 AM to 7 PM hourly)"
   ]
  },
  {
   "cell_type": "code",
   "execution_count": 54,
   "id": "71aa0505-2d57-4d79-8413-608b7fc5bcce",
   "metadata": {},
   "outputs": [],
   "source": [
    "# Sort by provider, datetime, then by status priority to apply Rule 8 (Online preference for same timestamp)\n",
    "df_temp = df_temp.sort_values(by=['provider_id', 'dt', 'status_priority'], ascending=[True, True, False])\n",
    "\n",
    "# Drop duplicates, keeping the 'Online' status for same provider_id, dt (Rule 8)\n",
    "tf2_events = df_temp.drop_duplicates(subset=['provider_id', 'dt'], keep='first').copy()\n",
    "tf2_events.drop(columns=['detail', 'source', 'event_time', 'status_priority'], inplace=True)\n",
    "\n",
    "all_providers = tf2_events['provider_id'].unique()\n",
    "all_dates = pd.to_datetime(pd.date_range('2017-09-01', '2017-09-30')).date # All dates in Sept 2017\n",
    "\n",
    "# Hourly points for the measurement period (8 AM, 9 AM, ..., 6 PM)\n",
    "hourly_times = pd.to_datetime(pd.date_range('08:00:00', '18:00:00', freq='H').time.astype(str)).time\n"
   ]
  },
  {
   "cell_type": "code",
   "execution_count": 55,
   "id": "9050666a-c1a9-424c-9037-a54703de9ee3",
   "metadata": {},
   "outputs": [
    {
     "name": "stdout",
     "output_type": "stream",
     "text": [
      "<class 'pandas.core.frame.DataFrame'>\n",
      "RangeIndex: 5373390 entries, 0 to 5373389\n",
      "Data columns (total 5 columns):\n",
      " #   Column       Dtype         \n",
      "---  ------       -----         \n",
      " 0   provider_id  object        \n",
      " 1   Date         object        \n",
      " 2   Time         object        \n",
      " 3   dt           datetime64[ns]\n",
      " 4   Status       float64       \n",
      "dtypes: datetime64[ns](1), float64(1), object(3)\n",
      "memory usage: 205.0+ MB\n"
     ]
    },
    {
     "data": {
      "text/html": [
       "<div>\n",
       "<style scoped>\n",
       "    .dataframe tbody tr th:only-of-type {\n",
       "        vertical-align: middle;\n",
       "    }\n",
       "\n",
       "    .dataframe tbody tr th {\n",
       "        vertical-align: top;\n",
       "    }\n",
       "\n",
       "    .dataframe thead th {\n",
       "        text-align: right;\n",
       "    }\n",
       "</style>\n",
       "<table border=\"1\" class=\"dataframe\">\n",
       "  <thead>\n",
       "    <tr style=\"text-align: right;\">\n",
       "      <th></th>\n",
       "      <th>provider_id</th>\n",
       "      <th>Date</th>\n",
       "      <th>Time</th>\n",
       "      <th>dt</th>\n",
       "      <th>Status</th>\n",
       "    </tr>\n",
       "  </thead>\n",
       "  <tbody>\n",
       "    <tr>\n",
       "      <th>0</th>\n",
       "      <td>00020da44b0a44e867de5f26c69886ac</td>\n",
       "      <td>2017-09-01</td>\n",
       "      <td>08:00:00</td>\n",
       "      <td>2017-09-01 08:00:00</td>\n",
       "      <td>NaN</td>\n",
       "    </tr>\n",
       "    <tr>\n",
       "      <th>1</th>\n",
       "      <td>00020da44b0a44e867de5f26c69886ac</td>\n",
       "      <td>2017-09-01</td>\n",
       "      <td>09:00:00</td>\n",
       "      <td>2017-09-01 09:00:00</td>\n",
       "      <td>NaN</td>\n",
       "    </tr>\n",
       "    <tr>\n",
       "      <th>2</th>\n",
       "      <td>00020da44b0a44e867de5f26c69886ac</td>\n",
       "      <td>2017-09-01</td>\n",
       "      <td>10:00:00</td>\n",
       "      <td>2017-09-01 10:00:00</td>\n",
       "      <td>NaN</td>\n",
       "    </tr>\n",
       "    <tr>\n",
       "      <th>3</th>\n",
       "      <td>00020da44b0a44e867de5f26c69886ac</td>\n",
       "      <td>2017-09-01</td>\n",
       "      <td>11:00:00</td>\n",
       "      <td>2017-09-01 11:00:00</td>\n",
       "      <td>NaN</td>\n",
       "    </tr>\n",
       "    <tr>\n",
       "      <th>4</th>\n",
       "      <td>00020da44b0a44e867de5f26c69886ac</td>\n",
       "      <td>2017-09-01</td>\n",
       "      <td>12:00:00</td>\n",
       "      <td>2017-09-01 12:00:00</td>\n",
       "      <td>NaN</td>\n",
       "    </tr>\n",
       "  </tbody>\n",
       "</table>\n",
       "</div>"
      ],
      "text/plain": [
       "                        provider_id        Date      Time                  dt  \\\n",
       "0  00020da44b0a44e867de5f26c69886ac  2017-09-01  08:00:00 2017-09-01 08:00:00   \n",
       "1  00020da44b0a44e867de5f26c69886ac  2017-09-01  09:00:00 2017-09-01 09:00:00   \n",
       "2  00020da44b0a44e867de5f26c69886ac  2017-09-01  10:00:00 2017-09-01 10:00:00   \n",
       "3  00020da44b0a44e867de5f26c69886ac  2017-09-01  11:00:00 2017-09-01 11:00:00   \n",
       "4  00020da44b0a44e867de5f26c69886ac  2017-09-01  12:00:00 2017-09-01 12:00:00   \n",
       "\n",
       "   Status  \n",
       "0     NaN  \n",
       "1     NaN  \n",
       "2     NaN  \n",
       "3     NaN  \n",
       "4     NaN  "
      ]
     },
     "execution_count": 55,
     "metadata": {},
     "output_type": "execute_result"
    }
   ],
   "source": [
    "# Create a DataFrame for all possible (provider, date, hour_start) combinations\n",
    "full_template = pd.MultiIndex.from_product([all_providers, all_dates, hourly_times],\n",
    "                                           names=['provider_id', 'Date', 'Time']).to_frame(index=False)\n",
    "\n",
    "full_template['dt'] = pd.to_datetime(full_template['Date'].astype(str) + ' ' + full_template['Time'].astype(str))\n",
    "full_template['Status'] = np.nan # Status will be filled by forward-fill\n",
    "full_template.info()\n",
    "full_template.head()"
   ]
  },
  {
   "cell_type": "code",
   "execution_count": 56,
   "id": "a7ac3960-92ae-43a4-acab-dbe6a69d8040",
   "metadata": {},
   "outputs": [],
   "source": [
    "# Combine actual events with the full template, and sort\n",
    "# Sort by provider_id and the full datetime 'dt' to ensure correct forward-fill.\n",
    "tf2 = pd.concat([tf2_events, full_template], ignore_index=True)\n",
    "tf2 = tf2.sort_values(by=['provider_id', 'dt']).reset_index(drop=True)\n"
   ]
  },
  {
   "cell_type": "markdown",
   "id": "797494a7-a974-4c78-b461-159ed454f183",
   "metadata": {},
   "source": [
    "### Forward-fill the Status"
   ]
  },
  {
   "cell_type": "code",
   "execution_count": 58,
   "id": "f4bb4b51-4f14-42e2-8493-d7be523070bc",
   "metadata": {},
   "outputs": [],
   "source": [
    "# Forward-fill the 'Status' for all time points within each provider group.\n",
    "# This propagates the last known status to all subsequent time points until a new event.\n",
    "tf2['Status'] = tf2.groupby('provider_id')['Status'].ffill()\n"
   ]
  },
  {
   "cell_type": "code",
   "execution_count": 59,
   "id": "b2fbc6c4-5bc0-4037-b949-4a87e7876328",
   "metadata": {},
   "outputs": [],
   "source": [
    "# --- Correction for initial 8 AM status and final calculation of Online_time ---\n",
    "\n",
    "tf2.loc[(tf2['dt'].dt.hour == 8) & (tf2['dt'].dt.minute == 0) & (tf2['dt'].dt.second == 0) & (tf2['Status'].isna()), 'Status'] = 'Offline'\n",
    "# Re-ffill after setting these specific 8 AM initial statuses, to propagate any new 'Offline' states.\n",
    "tf2['Status'] = tf2.groupby('provider_id')['Status'].ffill()\n"
   ]
  },
  {
   "cell_type": "code",
   "execution_count": 60,
   "id": "0b8b7a78-dd13-41b0-aeab-0e301a51d16d",
   "metadata": {},
   "outputs": [],
   "source": [
    "# Calculate next event time and status *within each provider_id group*.\n",
    "tf2['next_dt'] = tf2.groupby('provider_id')['dt'].shift(-1)\n",
    "tf2['next_status'] = tf2.groupby('provider_id')['Status'].shift(-1)"
   ]
  },
  {
   "cell_type": "code",
   "execution_count": 108,
   "id": "7be7c6d0-859f-48d1-9732-0fbe9e7224ba",
   "metadata": {},
   "outputs": [],
   "source": [
    "# Define the start and end boundaries for the active measurement period for each day.\n",
    "tf2['day_start_8am'] = pd.to_datetime(tf2['Date'].astype(str) + ' 08:00:00')\n",
    "tf2['day_end_7pm'] = pd.to_datetime(tf2['Date'].astype(str) + ' 19:00:00')\n",
    "\n",
    "\n",
    "# Initialize 'Online_time' column\n",
    "tf2['Online_time'] = 0"
   ]
  },
  {
   "cell_type": "code",
   "execution_count": 109,
   "id": "ae0809a1-94b1-4b23-9ac5-137c95f5946e",
   "metadata": {},
   "outputs": [
    {
     "name": "stdout",
     "output_type": "stream",
     "text": [
      "<class 'pandas.core.frame.DataFrame'>\n",
      "RangeIndex: 6042635 entries, 0 to 6042634\n",
      "Data columns (total 13 columns):\n",
      " #   Column                 Dtype         \n",
      "---  ------                 -----         \n",
      " 0   provider_id            object        \n",
      " 1   Date                   object        \n",
      " 2   Time                   object        \n",
      " 3   Status                 object        \n",
      " 4   dt                     datetime64[ns]\n",
      " 5   next_dt                datetime64[ns]\n",
      " 6   next_status            object        \n",
      " 7   day_start_8am          datetime64[ns]\n",
      " 8   day_end_7pm            datetime64[ns]\n",
      " 9   Online_time            int64         \n",
      " 10  segment_start_clipped  datetime64[ns]\n",
      " 11  segment_end_clipped    datetime64[ns]\n",
      " 12  Hour_start             datetime64[ns]\n",
      "dtypes: datetime64[ns](7), int64(1), object(5)\n",
      "memory usage: 599.3+ MB\n"
     ]
    }
   ],
   "source": [
    "tf2.info()"
   ]
  },
  {
   "cell_type": "markdown",
   "id": "6f625545-6d71-46b7-87c8-3d5c1a26cc50",
   "metadata": {},
   "source": [
    "## Online/Offline Classification"
   ]
  },
  {
   "cell_type": "markdown",
   "id": "37505d23-1ff4-47b8-a825-c88e37ded6ec",
   "metadata": {},
   "source": [
    "- Calculate 'Online_time' for each segment based on rules:\n",
    "    1. Status is 'Online' for the current segment.\n",
    "    2. Segment starts effectively at or after 8 AM.\n",
    "    3. Segment ends effectively at or before 7 PM.\n",
    "    4. Clip the segment's start and end times to these boundaries."
   ]
  },
  {
   "cell_type": "code",
   "execution_count": 114,
   "id": "cf84ee98-7821-40b4-bbf4-ac99da59a614",
   "metadata": {},
   "outputs": [],
   "source": [
    "# Determine the effective start of the online segment (max of event time or 8 AM)\n",
    "tf2['segment_start_clipped'] = tf2[['dt', 'day_start_8am']].max(axis=1)\n",
    "\n",
    "# Determine the effective end of the online segment (min of next event time or 7 PM)\n",
    "tf2['segment_end_clipped'] = tf2[['next_dt', 'day_end_7pm']].min(axis=1)\n",
    "\n",
    "# Calculate duration for segments where the current status is 'Online'\n",
    "# (segment_end_clipped - segment_start_clipped) should be positive\n",
    "tf2.loc[tf2['Status'] == 'Online', 'Online_time'] = \\\n",
    "    (tf2['segment_end_clipped'] - tf2['segment_start_clipped']).dt.total_seconds().clip(lower=0)\n",
    "\n",
    "# Exclude Online time if segment starts exactly at 8:00:00\n",
    "# If a segment is Online AND its effective start time is exactly 8:00:00, set its Online_time to 0.\n",
    "mask_online_at_8am_exact_start = (tf2['Status'] == 'Online') & \\\n",
    "                                 (tf2['segment_start_clipped'].dt.time == time(8, 0, 0))\n",
    "\n",
    "tf2.loc[mask_online_at_8am_exact_start, 'Online_time'] = 0"
   ]
  },
  {
   "cell_type": "code",
   "execution_count": 116,
   "id": "0f4fa88c-79df-41f7-94d1-89ab545ff7b3",
   "metadata": {},
   "outputs": [],
   "source": [
    "# Ensure no online time is counted if the segment itself starts at or after 7 PM\n",
    "tf2.loc[tf2['segment_start_clipped'].dt.hour >= 19, 'Online_time'] = 0\n",
    "\n",
    "# Also, if the status is explicitly 'Offline', the online time for that segment is 0.\n",
    "# (This is mostly redundant with the .loc above but good for clarity).\n",
    "tf2.loc[tf2['Status'] == 'Offline', 'Online_time'] = 0\n",
    "tf2['Hour_start'] = tf2['dt'].dt.floor('H') #so that no issues when grouping in 'res'"
   ]
  },
  {
   "cell_type": "code",
   "execution_count": 118,
   "id": "24e0254c-56dd-43e5-8dcc-eeb80e2a4a3a",
   "metadata": {},
   "outputs": [
    {
     "name": "stdout",
     "output_type": "stream",
     "text": [
      "\n",
      "--- DEBUGGING: 0037dfffff8b03bbdf366a263735e84b on 2017-09-04 (Intermediate tf2 state) ---\n",
      "                      dt          Hour_start   Status             next_dt next_status       day_start_8am         day_end_7pm segment_start_clipped segment_end_clipped  Online_time\n",
      "6725 2017-09-04 08:00:00 2017-09-04 08:00:00   Online 2017-09-04 08:00:19      Online 2017-09-04 08:00:00 2017-09-04 19:00:00   2017-09-04 08:00:00 2017-09-04 08:00:19            0\n",
      "6726 2017-09-04 08:00:19 2017-09-04 08:00:00   Online 2017-09-04 08:29:39     Offline 2017-09-04 08:00:00 2017-09-04 19:00:00   2017-09-04 08:00:19 2017-09-04 08:29:39         1760\n",
      "6727 2017-09-04 08:29:39 2017-09-04 08:00:00  Offline 2017-09-04 08:44:36     Offline 2017-09-04 08:00:00 2017-09-04 19:00:00   2017-09-04 08:29:39 2017-09-04 08:44:36            0\n",
      "6728 2017-09-04 08:44:36 2017-09-04 08:00:00  Offline 2017-09-04 09:00:00     Offline 2017-09-04 08:00:00 2017-09-04 19:00:00   2017-09-04 08:44:36 2017-09-04 09:00:00            0\n",
      "6729 2017-09-04 09:00:00 2017-09-04 09:00:00  Offline 2017-09-04 09:06:12      Online 2017-09-04 08:00:00 2017-09-04 19:00:00   2017-09-04 09:00:00 2017-09-04 09:06:12            0\n",
      "6730 2017-09-04 09:06:12 2017-09-04 09:00:00   Online 2017-09-04 10:00:00      Online 2017-09-04 08:00:00 2017-09-04 19:00:00   2017-09-04 09:06:12 2017-09-04 10:00:00         3228\n",
      "6731 2017-09-04 10:00:00 2017-09-04 10:00:00   Online 2017-09-04 11:00:00      Online 2017-09-04 08:00:00 2017-09-04 19:00:00   2017-09-04 10:00:00 2017-09-04 11:00:00         3600\n",
      "6732 2017-09-04 11:00:00 2017-09-04 11:00:00   Online 2017-09-04 12:00:00      Online 2017-09-04 08:00:00 2017-09-04 19:00:00   2017-09-04 11:00:00 2017-09-04 12:00:00         3600\n",
      "6733 2017-09-04 12:00:00 2017-09-04 12:00:00   Online 2017-09-04 12:23:24     Offline 2017-09-04 08:00:00 2017-09-04 19:00:00   2017-09-04 12:00:00 2017-09-04 12:23:24         1404\n",
      "6734 2017-09-04 12:23:24 2017-09-04 12:00:00  Offline 2017-09-04 12:23:47     Offline 2017-09-04 08:00:00 2017-09-04 19:00:00   2017-09-04 12:23:24 2017-09-04 12:23:47            0\n",
      "6735 2017-09-04 12:23:47 2017-09-04 12:00:00  Offline 2017-09-04 12:45:46      Online 2017-09-04 08:00:00 2017-09-04 19:00:00   2017-09-04 12:23:47 2017-09-04 12:45:46            0\n",
      "6736 2017-09-04 12:45:46 2017-09-04 12:00:00   Online 2017-09-04 12:45:56     Offline 2017-09-04 08:00:00 2017-09-04 19:00:00   2017-09-04 12:45:46 2017-09-04 12:45:56           10\n",
      "6737 2017-09-04 12:45:56 2017-09-04 12:00:00  Offline 2017-09-04 13:00:00     Offline 2017-09-04 08:00:00 2017-09-04 19:00:00   2017-09-04 12:45:56 2017-09-04 13:00:00            0\n",
      "6738 2017-09-04 13:00:00 2017-09-04 13:00:00  Offline 2017-09-04 14:00:00     Offline 2017-09-04 08:00:00 2017-09-04 19:00:00   2017-09-04 13:00:00 2017-09-04 14:00:00            0\n",
      "6739 2017-09-04 14:00:00 2017-09-04 14:00:00  Offline 2017-09-04 15:00:00     Offline 2017-09-04 08:00:00 2017-09-04 19:00:00   2017-09-04 14:00:00 2017-09-04 15:00:00            0\n",
      "6740 2017-09-04 15:00:00 2017-09-04 15:00:00  Offline 2017-09-04 16:00:00     Offline 2017-09-04 08:00:00 2017-09-04 19:00:00   2017-09-04 15:00:00 2017-09-04 16:00:00            0\n",
      "6741 2017-09-04 16:00:00 2017-09-04 16:00:00  Offline 2017-09-04 17:00:00     Offline 2017-09-04 08:00:00 2017-09-04 19:00:00   2017-09-04 16:00:00 2017-09-04 17:00:00            0\n",
      "6742 2017-09-04 17:00:00 2017-09-04 17:00:00  Offline 2017-09-04 17:38:31      Online 2017-09-04 08:00:00 2017-09-04 19:00:00   2017-09-04 17:00:00 2017-09-04 17:38:31            0\n",
      "6743 2017-09-04 17:38:31 2017-09-04 17:00:00   Online 2017-09-04 17:40:51      Online 2017-09-04 08:00:00 2017-09-04 19:00:00   2017-09-04 17:38:31 2017-09-04 17:40:51          140\n",
      "6744 2017-09-04 17:40:51 2017-09-04 17:00:00   Online 2017-09-04 18:00:00      Online 2017-09-04 08:00:00 2017-09-04 19:00:00   2017-09-04 17:40:51 2017-09-04 18:00:00         1149\n",
      "6745 2017-09-04 18:00:00 2017-09-04 18:00:00   Online 2017-09-05 08:00:00      Online 2017-09-04 08:00:00 2017-09-04 19:00:00   2017-09-04 18:00:00 2017-09-04 19:00:00         3600\n"
     ]
    }
   ],
   "source": [
    "print(\"\\n--- DEBUGGING: 0037dfffff8b03bbdf366a263735e84b on 2017-09-04 (Intermediate tf2 state) ---\")\n",
    "debug_provider_id = '0037dfffff8b03bbdf366a263735e84b'\n",
    "debug_date = '2017-09-04'\n",
    "debug_df_tf2 = tf2.loc[(tf2['provider_id'] == debug_provider_id) &\n",
    "                       (tf2['Date'].astype(str) == debug_date)].copy()\n",
    "# Display relevant columns for debugging\n",
    "print(debug_df_tf2[['dt','Hour_start', 'Status', 'next_dt', 'next_status', 'day_start_8am', 'day_end_7pm', 'segment_start_clipped', 'segment_end_clipped', 'Online_time']].to_string())"
   ]
  },
  {
   "cell_type": "code",
   "execution_count": 120,
   "id": "490c44f9-5a45-45c4-b1a6-e05e56e6a2ce",
   "metadata": {},
   "outputs": [
    {
     "name": "stdout",
     "output_type": "stream",
     "text": [
      "<class 'pandas.core.frame.DataFrame'>\n",
      "RangeIndex: 6042635 entries, 0 to 6042634\n",
      "Data columns (total 13 columns):\n",
      " #   Column                 Dtype         \n",
      "---  ------                 -----         \n",
      " 0   provider_id            object        \n",
      " 1   Date                   object        \n",
      " 2   Time                   object        \n",
      " 3   Status                 object        \n",
      " 4   dt                     datetime64[ns]\n",
      " 5   next_dt                datetime64[ns]\n",
      " 6   next_status            object        \n",
      " 7   day_start_8am          datetime64[ns]\n",
      " 8   day_end_7pm            datetime64[ns]\n",
      " 9   Online_time            int64         \n",
      " 10  segment_start_clipped  datetime64[ns]\n",
      " 11  segment_end_clipped    datetime64[ns]\n",
      " 12  Hour_start             datetime64[ns]\n",
      "dtypes: datetime64[ns](7), int64(1), object(5)\n",
      "memory usage: 599.3+ MB\n"
     ]
    }
   ],
   "source": [
    "tf2.info()"
   ]
  },
  {
   "cell_type": "markdown",
   "id": "c5ab07c9-9687-43ed-b26c-2fb671ece5de",
   "metadata": {},
   "source": [
    "### Aggregation and Final Output Formatting"
   ]
  },
  {
   "cell_type": "code",
   "execution_count": 123,
   "id": "58b89f2e-da47-4fa7-83f6-ad5ca7e84568",
   "metadata": {},
   "outputs": [],
   "source": [
    "# Group by provider, date, and hourly bins based on the 'dt' column\n",
    "# Sum the 'Online_time' for each hourly bin.\n",
    "res = tf2.groupby(['provider_id', pd.Grouper(key='dt', freq='H')])['Online_time'].sum().reset_index()"
   ]
  },
  {
   "cell_type": "code",
   "execution_count": 125,
   "id": "811ffc92-fd3f-489a-bf8f-5583b4c18e97",
   "metadata": {},
   "outputs": [
    {
     "name": "stdout",
     "output_type": "stream",
     "text": [
      "                           provider_id                  dt  Online_time\n",
      "6376  0037dfffff8b03bbdf366a263735e84b 2017-09-04 08:00:00         1760\n",
      "6377  0037dfffff8b03bbdf366a263735e84b 2017-09-04 09:00:00         3228\n",
      "6378  0037dfffff8b03bbdf366a263735e84b 2017-09-04 10:00:00         3600\n",
      "6379  0037dfffff8b03bbdf366a263735e84b 2017-09-04 11:00:00         3600\n",
      "6380  0037dfffff8b03bbdf366a263735e84b 2017-09-04 12:00:00         1414\n",
      "6381  0037dfffff8b03bbdf366a263735e84b 2017-09-04 13:00:00            0\n",
      "6382  0037dfffff8b03bbdf366a263735e84b 2017-09-04 14:00:00            0\n",
      "6383  0037dfffff8b03bbdf366a263735e84b 2017-09-04 15:00:00            0\n",
      "6384  0037dfffff8b03bbdf366a263735e84b 2017-09-04 16:00:00            0\n",
      "6385  0037dfffff8b03bbdf366a263735e84b 2017-09-04 17:00:00         1289\n",
      "6386  0037dfffff8b03bbdf366a263735e84b 2017-09-04 18:00:00         3600\n"
     ]
    }
   ],
   "source": [
    "# --- DEBUGGING: Check 'res' DataFrame before final merge ---\n",
    "print(res.loc[(res['provider_id'] == debug_provider_id) & (res['dt'].dt.date.astype(str) == debug_date)].to_string())"
   ]
  },
  {
   "cell_type": "code",
   "execution_count": 127,
   "id": "0ddbaa2b-ce53-476a-963d-b6d9600d85d0",
   "metadata": {},
   "outputs": [],
   "source": [
    "res['Date'] = res['dt'].dt.date"
   ]
  },
  {
   "cell_type": "code",
   "execution_count": 128,
   "id": "bfc68929-47f9-4aa6-8070-c3c9b2a672d8",
   "metadata": {},
   "outputs": [
    {
     "name": "stdout",
     "output_type": "stream",
     "text": [
      "<class 'pandas.core.frame.DataFrame'>\n",
      "RangeIndex: 5447036 entries, 0 to 5447035\n",
      "Data columns (total 4 columns):\n",
      " #   Column       Dtype         \n",
      "---  ------       -----         \n",
      " 0   provider_id  object        \n",
      " 1   dt           datetime64[ns]\n",
      " 2   Online_time  int64         \n",
      " 3   Date         object        \n",
      "dtypes: datetime64[ns](1), int64(1), object(2)\n",
      "memory usage: 166.2+ MB\n"
     ]
    }
   ],
   "source": [
    "res.info()"
   ]
  },
  {
   "cell_type": "code",
   "execution_count": 131,
   "id": "152c0115-c72e-4bca-acd2-ee0603801cb1",
   "metadata": {},
   "outputs": [],
   "source": [
    "# Rename the grouped 'dt' column to 'Hour_start'\n",
    "res.rename(columns={'dt': 'Hour_start'}, inplace=True)\n",
    "\n",
    "# Calculate 'Hour_end'\n",
    "res['Hour_end'] = res['Hour_start'] + pd.Timedelta(hours=1)\n",
    "\n",
    "# Extract just the hour number for 'Hour_start' and 'Hour_end'\n",
    "res['Hour_start'] = res['Hour_start'].dt.hour\n",
    "res['Hour_end'] = res['Hour_end'].dt.hour\n",
    "\n",
    "# Cast 'Online_time' to integer as it represents seconds.\n",
    "res['Seconds online'] = res['Online_time'].astype(int)\n",
    "res.drop(columns=['Online_time'], inplace=True) # Drop the original float column"
   ]
  },
  {
   "cell_type": "code",
   "execution_count": 132,
   "id": "4eed5b1c-7e19-4207-a318-db2b65f6363e",
   "metadata": {},
   "outputs": [],
   "source": [
    "# The 'full_template' uses datetime.time objects for the 'Time' column, so we'll adjust for merging\n",
    "full_template['Hour_start'] = full_template['Time'].apply(lambda x: x.hour)\n",
    "final_output = pd.merge(full_template[['provider_id', 'Date', 'Hour_start']], res,\n",
    "                       on=['provider_id', 'Date', 'Hour_start'], how='left')\n",
    "\n",
    "# Fill NaN 'Seconds online' with 0 for hours where no online activity was recorded.\n",
    "final_output['Seconds online'] = final_output['Seconds online'].fillna(0).astype(int)\n",
    "\n",
    "# Add 'Hour_end' to the final output\n",
    "final_output['Hour_end'] = final_output['Hour_start'] + 1\n",
    "\n",
    "# Ensure 'Hour_end' does not exceed 19 (7 PM)\n",
    "final_output.loc[final_output['Hour_start'] == 18, 'Hour_end'] = 19\n"
   ]
  },
  {
   "cell_type": "markdown",
   "id": "fa24aa9d-c610-47d7-92c3-fde4947b7093",
   "metadata": {},
   "source": [
    "## Final Sorting, Cleaning and Result"
   ]
  },
  {
   "cell_type": "code",
   "execution_count": 136,
   "id": "4b3112bb-1829-476e-a2b9-5597fd0d87ec",
   "metadata": {},
   "outputs": [
    {
     "name": "stdout",
     "output_type": "stream",
     "text": [
      "Total processing time: 0:08:56.335607\n",
      "\n",
      "Sample results for 0037dfffff8b03bbdf366a263735e84b on 2017-09-04:\n",
      "                           provider_id        Date  Hour_start  Hour_end  \\\n",
      "6303  0037dfffff8b03bbdf366a263735e84b  2017-09-04           8         9   \n",
      "6304  0037dfffff8b03bbdf366a263735e84b  2017-09-04           9        10   \n",
      "6305  0037dfffff8b03bbdf366a263735e84b  2017-09-04          10        11   \n",
      "6306  0037dfffff8b03bbdf366a263735e84b  2017-09-04          11        12   \n",
      "6307  0037dfffff8b03bbdf366a263735e84b  2017-09-04          12        13   \n",
      "6308  0037dfffff8b03bbdf366a263735e84b  2017-09-04          13        14   \n",
      "6309  0037dfffff8b03bbdf366a263735e84b  2017-09-04          14        15   \n",
      "6310  0037dfffff8b03bbdf366a263735e84b  2017-09-04          15        16   \n",
      "6311  0037dfffff8b03bbdf366a263735e84b  2017-09-04          16        17   \n",
      "6312  0037dfffff8b03bbdf366a263735e84b  2017-09-04          17        18   \n",
      "6313  0037dfffff8b03bbdf366a263735e84b  2017-09-04          18        19   \n",
      "\n",
      "      Seconds online  \n",
      "6303            1760  \n",
      "6304            3228  \n",
      "6305            3600  \n",
      "6306            3600  \n",
      "6307            1414  \n",
      "6308               0  \n",
      "6309               0  \n",
      "6310               0  \n",
      "6311               0  \n",
      "6312            1289  \n",
      "6313            3600  \n",
      "\n",
      "Final output shape: (5373390, 5)\n"
     ]
    }
   ],
   "source": [
    "final_output = final_output.sort_values(by=['provider_id', 'Date', 'Hour_start']).reset_index(drop=True)\n",
    "\n",
    "end = datetime.now()\n",
    "print(f\"Total processing time: {end - start}\")\n",
    "\n",
    "# Display results for a specific provider and date for verification\n",
    "print(\"\\nSample results for 0037dfffff8b03bbdf366a263735e84b on 2017-09-04:\")\n",
    "print(final_output.loc[(final_output['provider_id'] == '0037dfffff8b03bbdf366a263735e84b') & \n",
    "                       (final_output['Date'].astype(str) == '2017-09-04')])\n",
    "\n",
    "print(f\"\\nFinal output shape: {final_output.shape}\")"
   ]
  },
  {
   "cell_type": "markdown",
   "id": "281e421b-804d-452d-9d95-97ee06423844",
   "metadata": {},
   "source": [
    "### Assigned Metrics added"
   ]
  },
  {
   "cell_type": "code",
   "execution_count": 139,
   "id": "c80cc616-ab43-4474-8e33-1491ad666440",
   "metadata": {},
   "outputs": [
    {
     "name": "stdout",
     "output_type": "stream",
     "text": [
      "1. No. of online events: 126734\n",
      "2. No. of offline events: 542511\n",
      "3. No. of providers processed: 16283\n",
      "4. No. of rows in final output data frame: 5373390 (Expected: 5373390)\n",
      "5. No. of rows in final output where seconds online > 0: 233353\n"
     ]
    }
   ],
   "source": [
    "# 1. No. of online events (from cleaned initial events)\n",
    "num_online_events = tf2_events[tf2_events['Status'] == 'Online'].shape[0]\n",
    "print(f\"1. No. of online events: {num_online_events}\")\n",
    "\n",
    "# 2. No. of offline events (from cleaned initial events)\n",
    "num_offline_events = tf2_events[tf2_events['Status'] == 'Offline'].shape[0]\n",
    "print(f\"2. No. of offline events: {num_offline_events}\")\n",
    "\n",
    "# 3. No. of providers left after removing a) error rows b) events on or after 7 PM\n",
    "# These are the unique providers that were processed and are present in the final output.\n",
    "num_providers_processed = final_output['provider_id'].nunique()\n",
    "print(f\"3. No. of providers processed: {num_providers_processed}\") # Renamed from \"left after removing errors/7 PM\" for clarity\n",
    "\n",
    "# 4. No. of rows in final output data frame (No. of providers * 30 * 11)\n",
    "expected_rows = len(all_providers) * 30 * 11 # 11 hours are 8-9, ..., 18-19 (7 PM reset)\n",
    "actual_rows_final_output = final_output.shape[0]\n",
    "print(f\"4. No. of rows in final output data frame: {actual_rows_final_output} (Expected: {expected_rows})\")\n",
    "\n",
    "# 5. No. of rows in final output where seconds online > 0\n",
    "rows_with_online_activity = final_output[final_output['Seconds online'] > 0].shape[0]\n",
    "print(f\"5. No. of rows in final output where seconds online > 0: {rows_with_online_activity}\")"
   ]
  },
  {
   "cell_type": "code",
   "execution_count": 141,
   "id": "21e03d4f-8b91-4eaf-879c-8a1d55a69780",
   "metadata": {},
   "outputs": [],
   "source": [
    "# Save the final result to CSV\n",
    "final_output.to_csv('provider_data_detail.csv', index=False)"
   ]
  }
 ],
 "metadata": {
  "kernelspec": {
   "display_name": "Python 3 (ipykernel)",
   "language": "python",
   "name": "python3"
  },
  "language_info": {
   "codemirror_mode": {
    "name": "ipython",
    "version": 3
   },
   "file_extension": ".py",
   "mimetype": "text/x-python",
   "name": "python",
   "nbconvert_exporter": "python",
   "pygments_lexer": "ipython3",
   "version": "3.11.7"
  }
 },
 "nbformat": 4,
 "nbformat_minor": 5
}
